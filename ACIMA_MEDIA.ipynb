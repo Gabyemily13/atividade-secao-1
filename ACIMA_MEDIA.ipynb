{
 "cells": [
  {
   "cell_type": "code",
   "execution_count": 42,
   "id": "14b24230-6dfe-4d39-b62f-7b83678233d4",
   "metadata": {},
   "outputs": [
    {
     "name": "stdin",
     "output_type": "stream",
     "text": [
      "Digite a região 0 a 3:  3\n"
     ]
    },
    {
     "name": "stdout",
     "output_type": "stream",
     "text": [
      "6\n"
     ]
    }
   ],
   "source": [
    "uso_cpu = [\n",
    "[20, 25, 40, 50, 45, 60, 55, 35, 70, 65],\n",
    "[30, 35, 50, 60, 40, 55, 60, 45, 50, 55],\n",
    "[15, 20, 30, 25, 35, 40, 45, 50, 55, 60],\n",
    "[10, 15, 25, 35, 45, 50, 55, 60, 65, 70],\n",
    "]\n",
    "regiao = int(input(\"Digite a região 0 a 3: \"))\n",
    "def acima_da_media(uso_cpu):\n",
    "    media = sum(uso_cpu[regiao]) / len(uso_cpu[regiao])\n",
    "    count = 0\n",
    "    for i in uso_cpu[regiao]:\n",
    "        if i > media:\n",
    "            count += 1\n",
    "    return count\n",
    "print(acima_da_media(uso_cpu))"
   ]
  }
 ],
 "metadata": {
  "kernelspec": {
   "display_name": "Python 3 (ipykernel)",
   "language": "python",
   "name": "python3"
  },
  "language_info": {
   "codemirror_mode": {
    "name": "ipython",
    "version": 3
   },
   "file_extension": ".py",
   "mimetype": "text/x-python",
   "name": "python",
   "nbconvert_exporter": "python",
   "pygments_lexer": "ipython3",
   "version": "3.12.7"
  }
 },
 "nbformat": 4,
 "nbformat_minor": 5
}
