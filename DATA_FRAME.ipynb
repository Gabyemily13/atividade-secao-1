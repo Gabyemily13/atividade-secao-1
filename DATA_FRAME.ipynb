{
 "cells": [
  {
   "cell_type": "code",
   "execution_count": 2,
   "id": "233cde2a-03fe-439a-b43b-297c981ad8cb",
   "metadata": {},
   "outputs": [
    {
     "name": "stdout",
     "output_type": "stream",
     "text": [
      "              hora_1  hora_2  hora_3  hora_4  hora_5  hora_6  hora_7  hora_8  \\\n",
      "us-east-1         55      60      62      58      61      65      63      64   \n",
      "us-west-2         40      42      45      44      43      41      39      40   \n",
      "eu-central-1      70      72      75      74      73      71      69      70   \n",
      "sa-east-1         30      35      33      32      31      34      36      35   \n",
      "\n",
      "              hora_9  hora_10  uso_médio  \n",
      "us-east-1         60       59       60.7  \n",
      "us-west-2         42       43       41.9  \n",
      "eu-central-1      72       73       71.9  \n",
      "sa-east-1         33       32       33.1  \n"
     ]
    }
   ],
   "source": [
    "import pandas as pd\n",
    "\n",
    "dados = [\n",
    "    [55, 60, 62, 58, 61, 65, 63, 64, 60, 59],\n",
    "    [40, 42, 45, 44, 43, 41, 39, 40, 42, 43],\n",
    "    [70, 72, 75, 74, 73, 71, 69, 70, 72, 73],\n",
    "    [30, 35, 33, 32, 31, 34, 36, 35, 33, 32]\n",
    "]\n",
    "\n",
    "df = pd.DataFrame(dados, \n",
    "                  columns=[f\"hora_{i}\" for i in range(1, 11)],\n",
    "                  index=[\"us-east-1\", \"us-west-2\", \"eu-central-1\", \"sa-east-1\"])\n",
    "\n",
    "df[\"uso_médio\"] = df.mean(axis=1)\n",
    "\n",
    "print(df)"
   ]
  }
 ],
 "metadata": {
  "kernelspec": {
   "display_name": "Python 3 (ipykernel)",
   "language": "python",
   "name": "python3"
  },
  "language_info": {
   "codemirror_mode": {
    "name": "ipython",
    "version": 3
   },
   "file_extension": ".py",
   "mimetype": "text/x-python",
   "name": "python",
   "nbconvert_exporter": "python",
   "pygments_lexer": "ipython3",
   "version": "3.12.7"
  }
 },
 "nbformat": 4,
 "nbformat_minor": 5
}
