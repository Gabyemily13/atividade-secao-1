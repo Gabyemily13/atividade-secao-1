{
 "cells": [
  {
   "cell_type": "code",
   "execution_count": 18,
   "id": "9b64fff0-af46-49fd-ae08-2e127dee951c",
   "metadata": {},
   "outputs": [
    {
     "name": "stdin",
     "output_type": "stream",
     "text": [
      "Digite a posição:  3\n"
     ]
    },
    {
     "name": "stdout",
     "output_type": "stream",
     "text": [
      "70\n"
     ]
    }
   ],
   "source": [
    "uso_cpu = [\n",
    "[20, 25, 40, 50, 45, 60, 55, 35, 70, 65],\n",
    "[30, 35, 50, 60, 40, 55, 60, 45, 50, 55],\n",
    "[15, 20, 30, 25, 35, 40, 45, 50, 55, 60],\n",
    "[10, 15, 25, 35, 45, 50, 55, 60, 65, 70],\n",
    "]\n",
    "posicao = int(input(\"Digite a posição: \"))\n",
    "def uso_maximo(uso_cpu):\n",
    "    return max(uso_cpu[posicao])\n",
    "\n",
    "print(uso_maximo(uso_cpu))"
   ]
  },
  {
   "cell_type": "code",
   "execution_count": null,
   "id": "8a471d2d-9b3d-419b-aaf1-558a6948dab2",
   "metadata": {},
   "outputs": [],
   "source": []
  }
 ],
 "metadata": {
  "kernelspec": {
   "display_name": "Python 3 (ipykernel)",
   "language": "python",
   "name": "python3"
  },
  "language_info": {
   "codemirror_mode": {
    "name": "ipython",
    "version": 3
   },
   "file_extension": ".py",
   "mimetype": "text/x-python",
   "name": "python",
   "nbconvert_exporter": "python",
   "pygments_lexer": "ipython3",
   "version": "3.12.7"
  }
 },
 "nbformat": 4,
 "nbformat_minor": 5
}
